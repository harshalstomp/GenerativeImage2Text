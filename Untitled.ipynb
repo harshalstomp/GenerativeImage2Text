{
 "cells": [
  {
   "cell_type": "code",
   "execution_count": 1,
   "id": "d336d47a-74e9-4a87-9dab-024221e86815",
   "metadata": {},
   "outputs": [
    {
     "name": "stdout",
     "output_type": "stream",
     "text": [
      "CODE_OF_CONDUCT.md\t      checkpoints\n",
      "LICENSE\t\t\t      dataset\n",
      "NOTICE.txt\t\t      dataset_to_tsv.py\n",
      "README.md\t\t      generativeimage2text\n",
      "SECURITY.md\t\t      generativeimage2text.egg-info\n",
      "SUPPORT.md\t\t      inference\n",
      "Untitled.ipynb\t\t      output\n",
      "annotations_trainval2014.zip  requirements.txt\n",
      "aux_data\t\t      setup.py\n",
      "azcopy_v10.tar.gz\t      trainer.py\n",
      "build\t\t\t      val2014.zip\n",
      "captions_val2014.json\n"
     ]
    }
   ],
   "source": [
    "!ls"
   ]
  },
  {
   "cell_type": "code",
   "execution_count": 1,
   "id": "7e1779fb-d520-4a9e-b4b7-e8d678b22a1c",
   "metadata": {},
   "outputs": [
    {
     "name": "stdout",
     "output_type": "stream",
     "text": [
      "Collecting git+https://github.com/microsoft/azfuse.git\n",
      "  Cloning https://github.com/microsoft/azfuse.git to /tmp/pip-req-build-90b9piqq\n",
      "  Running command git clone --filter=blob:none --quiet https://github.com/microsoft/azfuse.git /tmp/pip-req-build-90b9piqq\n",
      "  Resolved https://github.com/microsoft/azfuse.git to commit d4008bf0a60cd40e187cebf536e91d7b266108a9\n",
      "  Preparing metadata (setup.py) ... \u001b[?25ldone\n",
      "\u001b[?25hCollecting azure-storage-blob\n",
      "  Downloading azure_storage_blob-12.19.0-py3-none-any.whl (394 kB)\n",
      "\u001b[2K     \u001b[90m━━━━━━━━━━━━━━━━━━━━━━━━━━━━━━━━━━━━━━\u001b[0m \u001b[32m394.2/394.2 kB\u001b[0m \u001b[31m38.6 MB/s\u001b[0m eta \u001b[36m0:00:00\u001b[0m\n",
      "\u001b[?25hCollecting deprecated\n",
      "  Downloading Deprecated-1.2.14-py2.py3-none-any.whl (9.6 kB)\n",
      "Requirement already satisfied: psutil in /usr/local/lib/python3.9/dist-packages (from azfuse==0.1) (5.9.4)\n",
      "Requirement already satisfied: tqdm in /usr/local/lib/python3.9/dist-packages (from azfuse==0.1) (4.64.1)\n",
      "Requirement already satisfied: pyyaml in /usr/local/lib/python3.9/dist-packages (from azfuse==0.1) (5.4.1)\n",
      "Collecting azure-core<2.0.0,>=1.28.0\n",
      "  Downloading azure_core-1.29.5-py3-none-any.whl (192 kB)\n",
      "\u001b[2K     \u001b[90m━━━━━━━━━━━━━━━━━━━━━━━━━━━━━━━━━━━━━━\u001b[0m \u001b[32m192.4/192.4 kB\u001b[0m \u001b[31m58.9 MB/s\u001b[0m eta \u001b[36m0:00:00\u001b[0m\n",
      "\u001b[?25hRequirement already satisfied: typing-extensions>=4.3.0 in /usr/local/lib/python3.9/dist-packages (from azure-storage-blob->azfuse==0.1) (4.4.0)\n",
      "Collecting isodate>=0.6.1\n",
      "  Downloading isodate-0.6.1-py2.py3-none-any.whl (41 kB)\n",
      "\u001b[2K     \u001b[90m━━━━━━━━━━━━━━━━━━━━━━━━━━━━━━━━━━━━━━━━\u001b[0m \u001b[32m41.7/41.7 kB\u001b[0m \u001b[31m16.0 MB/s\u001b[0m eta \u001b[36m0:00:00\u001b[0m\n",
      "\u001b[?25hCollecting cryptography>=2.1.4\n",
      "  Downloading cryptography-41.0.7-cp37-abi3-manylinux_2_28_x86_64.whl (4.4 MB)\n",
      "\u001b[2K     \u001b[90m━━━━━━━━━━━━━━━━━━━━━━━━━━━━━━━━━━━━━━━━\u001b[0m \u001b[32m4.4/4.4 MB\u001b[0m \u001b[31m104.7 MB/s\u001b[0m eta \u001b[36m0:00:00\u001b[0m00:01\u001b[0m\n",
      "\u001b[?25hRequirement already satisfied: wrapt<2,>=1.10 in /usr/local/lib/python3.9/dist-packages (from deprecated->azfuse==0.1) (1.14.1)\n",
      "Requirement already satisfied: requests>=2.18.4 in /usr/local/lib/python3.9/dist-packages (from azure-core<2.0.0,>=1.28.0->azure-storage-blob->azfuse==0.1) (2.28.2)\n",
      "Requirement already satisfied: six>=1.11.0 in /usr/lib/python3/dist-packages (from azure-core<2.0.0,>=1.28.0->azure-storage-blob->azfuse==0.1) (1.14.0)\n",
      "Collecting typing-extensions>=4.3.0\n",
      "  Downloading typing_extensions-4.8.0-py3-none-any.whl (31 kB)\n",
      "Requirement already satisfied: cffi>=1.12 in /usr/local/lib/python3.9/dist-packages (from cryptography>=2.1.4->azure-storage-blob->azfuse==0.1) (1.15.1)\n",
      "Requirement already satisfied: pycparser in /usr/local/lib/python3.9/dist-packages (from cffi>=1.12->cryptography>=2.1.4->azure-storage-blob->azfuse==0.1) (2.21)\n",
      "Requirement already satisfied: charset-normalizer<4,>=2 in /usr/local/lib/python3.9/dist-packages (from requests>=2.18.4->azure-core<2.0.0,>=1.28.0->azure-storage-blob->azfuse==0.1) (2.1.1)\n",
      "Requirement already satisfied: urllib3<1.27,>=1.21.1 in /usr/local/lib/python3.9/dist-packages (from requests>=2.18.4->azure-core<2.0.0,>=1.28.0->azure-storage-blob->azfuse==0.1) (1.26.14)\n",
      "Requirement already satisfied: certifi>=2017.4.17 in /usr/lib/python3/dist-packages (from requests>=2.18.4->azure-core<2.0.0,>=1.28.0->azure-storage-blob->azfuse==0.1) (2019.11.28)\n",
      "Requirement already satisfied: idna<4,>=2.5 in /usr/lib/python3/dist-packages (from requests>=2.18.4->azure-core<2.0.0,>=1.28.0->azure-storage-blob->azfuse==0.1) (2.8)\n",
      "Building wheels for collected packages: azfuse\n",
      "  Building wheel for azfuse (setup.py) ... \u001b[?25ldone\n",
      "\u001b[?25h  Created wheel for azfuse: filename=azfuse-0.1-py3-none-any.whl size=19218 sha256=ee94dea23805b1a5a21cce454803211c65342efbd11b7a23ae2074f2e9a49870\n",
      "  Stored in directory: /tmp/pip-ephem-wheel-cache-ulfwriv4/wheels/2b/59/22/67e178365ca0aca6d3d171b05c0c2273596a3272bfa7a6864e\n",
      "Successfully built azfuse\n",
      "Installing collected packages: typing-extensions, isodate, deprecated, cryptography, azure-core, azure-storage-blob, azfuse\n",
      "  Attempting uninstall: typing-extensions\n",
      "    Found existing installation: typing_extensions 4.4.0\n",
      "    Uninstalling typing_extensions-4.4.0:\n",
      "      Successfully uninstalled typing_extensions-4.4.0\n",
      "  Attempting uninstall: isodate\n",
      "    Found existing installation: isodate 0.6.0\n",
      "    Uninstalling isodate-0.6.0:\n",
      "      Successfully uninstalled isodate-0.6.0\n",
      "Successfully installed azfuse-0.1 azure-core-1.29.5 azure-storage-blob-12.19.0 cryptography-41.0.7 deprecated-1.2.14 isodate-0.6.1 typing-extensions-4.8.0\n",
      "\u001b[33mWARNING: Running pip as the 'root' user can result in broken permissions and conflicting behaviour with the system package manager. It is recommended to use a virtual environment instead: https://pip.pypa.io/warnings/venv\u001b[0m\u001b[33m\n",
      "\u001b[0m"
     ]
    }
   ],
   "source": [
    "!pip install git+https://github.com/microsoft/azfuse.git"
   ]
  },
  {
   "cell_type": "code",
   "execution_count": 2,
   "id": "c75e6b59-5c26-4980-84c2-6ad1493ba71b",
   "metadata": {},
   "outputs": [
    {
     "name": "stdout",
     "output_type": "stream",
     "text": [
      "Collecting pycocotools\n",
      "  Downloading pycocotools-2.0.7-cp39-cp39-manylinux_2_17_x86_64.manylinux2014_x86_64.whl (435 kB)\n",
      "\u001b[2K     \u001b[90m━━━━━━━━━━━━━━━━━━━━━━━━━━━━━━━━━━━━━━\u001b[0m \u001b[32m435.1/435.1 kB\u001b[0m \u001b[31m45.1 MB/s\u001b[0m eta \u001b[36m0:00:00\u001b[0m\n",
      "\u001b[?25hCollecting pycocoevalcap\n",
      "  Downloading pycocoevalcap-1.2-py3-none-any.whl (104.3 MB)\n",
      "\u001b[2K     \u001b[90m━━━━━━━━━━━━━━━━━━━━━━━━━━━━━━━━━━━━━━\u001b[0m \u001b[32m104.3/104.3 MB\u001b[0m \u001b[31m21.2 MB/s\u001b[0m eta \u001b[36m0:00:00\u001b[0m00:01\u001b[0m00:01\u001b[0m\n",
      "\u001b[?25hCollecting pytorch-lightning\n",
      "  Downloading pytorch_lightning-2.1.2-py3-none-any.whl (776 kB)\n",
      "\u001b[2K     \u001b[90m━━━━━━━━━━━━━━━━━━━━━━━━━━━━━━━━━━━━━\u001b[0m \u001b[32m776.9/776.9 kB\u001b[0m \u001b[31m103.8 MB/s\u001b[0m eta \u001b[36m0:00:00\u001b[0m\n",
      "\u001b[?25hRequirement already satisfied: numpy in /usr/local/lib/python3.9/dist-packages (from pycocotools->-r requirements.txt (line 1)) (1.23.4)\n",
      "Requirement already satisfied: matplotlib>=2.1.0 in /usr/local/lib/python3.9/dist-packages (from pycocotools->-r requirements.txt (line 1)) (3.6.1)\n",
      "Requirement already satisfied: tqdm>=4.57.0 in /usr/local/lib/python3.9/dist-packages (from pytorch-lightning->-r requirements.txt (line 3)) (4.64.1)\n",
      "Requirement already satisfied: typing-extensions>=4.0.0 in /usr/local/lib/python3.9/dist-packages (from pytorch-lightning->-r requirements.txt (line 3)) (4.8.0)\n",
      "Collecting torchmetrics>=0.7.0\n",
      "  Downloading torchmetrics-1.2.0-py3-none-any.whl (805 kB)\n",
      "\u001b[2K     \u001b[90m━━━━━━━━━━━━━━━━━━━━━━━━━━━━━━━━━━━━━\u001b[0m \u001b[32m805.2/805.2 kB\u001b[0m \u001b[31m105.2 MB/s\u001b[0m eta \u001b[36m0:00:00\u001b[0m\n",
      "\u001b[?25hRequirement already satisfied: fsspec[http]>2021.06.0 in /usr/local/lib/python3.9/dist-packages (from pytorch-lightning->-r requirements.txt (line 3)) (2023.1.0)\n",
      "Requirement already satisfied: PyYAML>=5.4 in /usr/local/lib/python3.9/dist-packages (from pytorch-lightning->-r requirements.txt (line 3)) (5.4.1)\n",
      "Requirement already satisfied: packaging>=20.0 in /usr/local/lib/python3.9/dist-packages (from pytorch-lightning->-r requirements.txt (line 3)) (23.0)\n",
      "Requirement already satisfied: torch>=1.12.0 in /usr/local/lib/python3.9/dist-packages (from pytorch-lightning->-r requirements.txt (line 3)) (1.12.1+cu116)\n",
      "Collecting lightning-utilities>=0.8.0\n",
      "  Downloading lightning_utilities-0.10.0-py3-none-any.whl (24 kB)\n",
      "Requirement already satisfied: aiohttp!=4.0.0a0,!=4.0.0a1 in /usr/local/lib/python3.9/dist-packages (from fsspec[http]>2021.06.0->pytorch-lightning->-r requirements.txt (line 3)) (3.8.3)\n",
      "Requirement already satisfied: requests in /usr/local/lib/python3.9/dist-packages (from fsspec[http]>2021.06.0->pytorch-lightning->-r requirements.txt (line 3)) (2.28.2)\n",
      "Requirement already satisfied: setuptools in /usr/local/lib/python3.9/dist-packages (from lightning-utilities>=0.8.0->pytorch-lightning->-r requirements.txt (line 3)) (66.1.1)\n",
      "Requirement already satisfied: pillow>=6.2.0 in /usr/local/lib/python3.9/dist-packages (from matplotlib>=2.1.0->pycocotools->-r requirements.txt (line 1)) (9.2.0)\n",
      "Requirement already satisfied: fonttools>=4.22.0 in /usr/local/lib/python3.9/dist-packages (from matplotlib>=2.1.0->pycocotools->-r requirements.txt (line 1)) (4.38.0)\n",
      "Requirement already satisfied: python-dateutil>=2.7 in /usr/local/lib/python3.9/dist-packages (from matplotlib>=2.1.0->pycocotools->-r requirements.txt (line 1)) (2.8.2)\n",
      "Requirement already satisfied: contourpy>=1.0.1 in /usr/local/lib/python3.9/dist-packages (from matplotlib>=2.1.0->pycocotools->-r requirements.txt (line 1)) (1.0.7)\n",
      "Requirement already satisfied: cycler>=0.10 in /usr/local/lib/python3.9/dist-packages (from matplotlib>=2.1.0->pycocotools->-r requirements.txt (line 1)) (0.11.0)\n",
      "Requirement already satisfied: pyparsing>=2.2.1 in /usr/local/lib/python3.9/dist-packages (from matplotlib>=2.1.0->pycocotools->-r requirements.txt (line 1)) (3.0.9)\n",
      "Requirement already satisfied: kiwisolver>=1.0.1 in /usr/local/lib/python3.9/dist-packages (from matplotlib>=2.1.0->pycocotools->-r requirements.txt (line 1)) (1.4.4)\n",
      "Requirement already satisfied: async-timeout<5.0,>=4.0.0a3 in /usr/local/lib/python3.9/dist-packages (from aiohttp!=4.0.0a0,!=4.0.0a1->fsspec[http]>2021.06.0->pytorch-lightning->-r requirements.txt (line 3)) (4.0.2)\n",
      "Requirement already satisfied: frozenlist>=1.1.1 in /usr/local/lib/python3.9/dist-packages (from aiohttp!=4.0.0a0,!=4.0.0a1->fsspec[http]>2021.06.0->pytorch-lightning->-r requirements.txt (line 3)) (1.3.3)\n",
      "Requirement already satisfied: yarl<2.0,>=1.0 in /usr/local/lib/python3.9/dist-packages (from aiohttp!=4.0.0a0,!=4.0.0a1->fsspec[http]>2021.06.0->pytorch-lightning->-r requirements.txt (line 3)) (1.8.2)\n",
      "Requirement already satisfied: aiosignal>=1.1.2 in /usr/local/lib/python3.9/dist-packages (from aiohttp!=4.0.0a0,!=4.0.0a1->fsspec[http]>2021.06.0->pytorch-lightning->-r requirements.txt (line 3)) (1.3.1)\n",
      "Requirement already satisfied: attrs>=17.3.0 in /usr/local/lib/python3.9/dist-packages (from aiohttp!=4.0.0a0,!=4.0.0a1->fsspec[http]>2021.06.0->pytorch-lightning->-r requirements.txt (line 3)) (18.2.0)\n",
      "Requirement already satisfied: charset-normalizer<3.0,>=2.0 in /usr/local/lib/python3.9/dist-packages (from aiohttp!=4.0.0a0,!=4.0.0a1->fsspec[http]>2021.06.0->pytorch-lightning->-r requirements.txt (line 3)) (2.1.1)\n",
      "Requirement already satisfied: multidict<7.0,>=4.5 in /usr/local/lib/python3.9/dist-packages (from aiohttp!=4.0.0a0,!=4.0.0a1->fsspec[http]>2021.06.0->pytorch-lightning->-r requirements.txt (line 3)) (6.0.4)\n",
      "Requirement already satisfied: six>=1.5 in /usr/lib/python3/dist-packages (from python-dateutil>=2.7->matplotlib>=2.1.0->pycocotools->-r requirements.txt (line 1)) (1.14.0)\n",
      "Requirement already satisfied: certifi>=2017.4.17 in /usr/lib/python3/dist-packages (from requests->fsspec[http]>2021.06.0->pytorch-lightning->-r requirements.txt (line 3)) (2019.11.28)\n",
      "Requirement already satisfied: idna<4,>=2.5 in /usr/lib/python3/dist-packages (from requests->fsspec[http]>2021.06.0->pytorch-lightning->-r requirements.txt (line 3)) (2.8)\n",
      "Requirement already satisfied: urllib3<1.27,>=1.21.1 in /usr/local/lib/python3.9/dist-packages (from requests->fsspec[http]>2021.06.0->pytorch-lightning->-r requirements.txt (line 3)) (1.26.14)\n",
      "Installing collected packages: lightning-utilities, torchmetrics, pycocotools, pytorch-lightning, pycocoevalcap\n",
      "Successfully installed lightning-utilities-0.10.0 pycocoevalcap-1.2 pycocotools-2.0.7 pytorch-lightning-2.1.2 torchmetrics-1.2.0\n",
      "\u001b[33mWARNING: Running pip as the 'root' user can result in broken permissions and conflicting behaviour with the system package manager. It is recommended to use a virtual environment instead: https://pip.pypa.io/warnings/venv\u001b[0m\u001b[33m\n",
      "\u001b[0mrunning build\n",
      "running build_py\n",
      "copying generativeimage2text/model.py -> build/lib/generativeimage2text\n",
      "running develop\n",
      "/usr/local/lib/python3.9/dist-packages/setuptools/command/easy_install.py:144: EasyInstallDeprecationWarning: easy_install command is deprecated. Use build and pip and other standards-based tools.\n",
      "  warnings.warn(\n",
      "/usr/local/lib/python3.9/dist-packages/setuptools/command/install.py:34: SetuptoolsDeprecationWarning: setup.py install is deprecated. Use build and pip and other standards-based tools.\n",
      "  warnings.warn(\n",
      "running egg_info\n",
      "writing generativeimage2text.egg-info/PKG-INFO\n",
      "writing dependency_links to generativeimage2text.egg-info/dependency_links.txt\n",
      "writing top-level names to generativeimage2text.egg-info/top_level.txt\n",
      "reading manifest file 'generativeimage2text.egg-info/SOURCES.txt'\n",
      "adding license file 'LICENSE'\n",
      "adding license file 'NOTICE.txt'\n",
      "writing manifest file 'generativeimage2text.egg-info/SOURCES.txt'\n",
      "running build_ext\n",
      "Creating /usr/lib/python3.9/site-packages/generativeimage2text.egg-link (link to .)\n",
      "Adding generativeimage2text 0.1 to easy-install.pth file\n",
      "\n",
      "Installed /notebooks/Tan/GenerativeImage2Text\n",
      "Processing dependencies for generativeimage2text==0.1\n",
      "Finished processing dependencies for generativeimage2text==0.1\n"
     ]
    }
   ],
   "source": [
    "!pip install -r requirements.txt\n",
    "!python setup.py build develop"
   ]
  },
  {
   "cell_type": "code",
   "execution_count": null,
   "id": "0823fe4a-2f50-4f04-b2a7-003611f2852c",
   "metadata": {},
   "outputs": [],
   "source": []
  },
  {
   "cell_type": "code",
   "execution_count": null,
   "id": "cc0af5aa-e7c9-464a-8c33-9a0c29d4e04b",
   "metadata": {},
   "outputs": [],
   "source": [
    "!wget http://images.cocodataset.org/zips/val2014.zip\n",
    "!wget http://images.cocodataset.org/annotations/annotations_trainval2014.zip"
   ]
  },
  {
   "cell_type": "code",
   "execution_count": 6,
   "id": "fa894921-95ff-42b1-824b-48462131729b",
   "metadata": {},
   "outputs": [
    {
     "name": "stdout",
     "output_type": "stream",
     "text": [
      "Archive:  annotations_trainval2014.zip\n",
      "  inflating: dataset/annotations/instances_train2014.json  \n",
      "  inflating: dataset/annotations/instances_val2014.json  \n",
      "  inflating: dataset/annotations/person_keypoints_train2014.json  \n",
      "  inflating: dataset/annotations/person_keypoints_val2014.json  \n",
      "  inflating: dataset/annotations/captions_train2014.json  \n",
      "  inflating: dataset/annotations/captions_val2014.json  \n"
     ]
    }
   ],
   "source": [
    "#unzip file.zip -d destination_folder\n",
    "!unzip annotations_trainval2014.zip -d dataset"
   ]
  },
  {
   "cell_type": "code",
   "execution_count": null,
   "id": "ef97ff0e-d3e6-4b79-99d5-32888d92925f",
   "metadata": {},
   "outputs": [],
   "source": [
    "!unzip val2014.zip -d dataset"
   ]
  },
  {
   "cell_type": "code",
   "execution_count": null,
   "id": "4925f80a-2a39-438f-be49-56c3e6d78aef",
   "metadata": {},
   "outputs": [
    {
     "name": "stdout",
     "output_type": "stream",
     "text": [
      "Converting dataset to TSV files...\n",
      "tsv_io.py:363: 13780it [00:32, 465.25it/s]"
     ]
    }
   ],
   "source": [
    "!python dataset_to_tsv.py"
   ]
  },
  {
   "cell_type": "code",
   "execution_count": null,
   "id": "9613e949-7e4a-49b7-84d4-62fd670a326c",
   "metadata": {},
   "outputs": [
    {
     "name": "stdout",
     "output_type": "stream",
     "text": [
      "Collecting pytorch-lightning==1.9.0\n",
      "  Downloading pytorch_lightning-1.9.0-py3-none-any.whl (825 kB)\n",
      "\u001b[2K     \u001b[90m━━━━━━━━━━━━━━━━━━━━━━━━━━━━━━━━━━━━━━\u001b[0m \u001b[32m825.8/825.8 kB\u001b[0m \u001b[31m60.8 MB/s\u001b[0m eta \u001b[36m0:00:00\u001b[0m\n",
      "\u001b[?25hRequirement already satisfied: numpy>=1.17.2 in /usr/local/lib/python3.9/dist-packages (from pytorch-lightning==1.9.0) (1.23.4)\n",
      "Requirement already satisfied: torchmetrics>=0.7.0 in /usr/local/lib/python3.9/dist-packages (from pytorch-lightning==1.9.0) (1.2.0)\n",
      "Requirement already satisfied: packaging>=17.1 in /usr/local/lib/python3.9/dist-packages (from pytorch-lightning==1.9.0) (23.0)\n",
      "Requirement already satisfied: tqdm>=4.57.0 in /usr/local/lib/python3.9/dist-packages (from pytorch-lightning==1.9.0) (4.64.1)\n",
      "Requirement already satisfied: typing-extensions>=4.0.0 in /usr/local/lib/python3.9/dist-packages (from pytorch-lightning==1.9.0) (4.8.0)\n",
      "Requirement already satisfied: fsspec[http]>2021.06.0 in /usr/local/lib/python3.9/dist-packages (from pytorch-lightning==1.9.0) (2023.1.0)\n",
      "Requirement already satisfied: torch>=1.10.0 in /usr/local/lib/python3.9/dist-packages (from pytorch-lightning==1.9.0) (1.12.1+cu116)\n",
      "Requirement already satisfied: PyYAML>=5.4 in /usr/local/lib/python3.9/dist-packages (from pytorch-lightning==1.9.0) (5.4.1)\n",
      "Requirement already satisfied: lightning-utilities>=0.4.2 in /usr/local/lib/python3.9/dist-packages (from pytorch-lightning==1.9.0) (0.10.0)\n",
      "Requirement already satisfied: aiohttp!=4.0.0a0,!=4.0.0a1 in /usr/local/lib/python3.9/dist-packages (from fsspec[http]>2021.06.0->pytorch-lightning==1.9.0) (3.8.3)\n",
      "Requirement already satisfied: requests in /usr/local/lib/python3.9/dist-packages (from fsspec[http]>2021.06.0->pytorch-lightning==1.9.0) (2.28.2)\n",
      "Requirement already satisfied: setuptools in /usr/local/lib/python3.9/dist-packages (from lightning-utilities>=0.4.2->pytorch-lightning==1.9.0) (66.1.1)\n",
      "Requirement already satisfied: multidict<7.0,>=4.5 in /usr/local/lib/python3.9/dist-packages (from aiohttp!=4.0.0a0,!=4.0.0a1->fsspec[http]>2021.06.0->pytorch-lightning==1.9.0) (6.0.4)\n",
      "Requirement already satisfied: async-timeout<5.0,>=4.0.0a3 in /usr/local/lib/python3.9/dist-packages (from aiohttp!=4.0.0a0,!=4.0.0a1->fsspec[http]>2021.06.0->pytorch-lightning==1.9.0) (4.0.2)\n",
      "Requirement already satisfied: charset-normalizer<3.0,>=2.0 in /usr/local/lib/python3.9/dist-packages (from aiohttp!=4.0.0a0,!=4.0.0a1->fsspec[http]>2021.06.0->pytorch-lightning==1.9.0) (2.1.1)\n",
      "Requirement already satisfied: frozenlist>=1.1.1 in /usr/local/lib/python3.9/dist-packages (from aiohttp!=4.0.0a0,!=4.0.0a1->fsspec[http]>2021.06.0->pytorch-lightning==1.9.0) (1.3.3)\n",
      "Requirement already satisfied: yarl<2.0,>=1.0 in /usr/local/lib/python3.9/dist-packages (from aiohttp!=4.0.0a0,!=4.0.0a1->fsspec[http]>2021.06.0->pytorch-lightning==1.9.0) (1.8.2)\n",
      "Requirement already satisfied: aiosignal>=1.1.2 in /usr/local/lib/python3.9/dist-packages (from aiohttp!=4.0.0a0,!=4.0.0a1->fsspec[http]>2021.06.0->pytorch-lightning==1.9.0) (1.3.1)\n",
      "Requirement already satisfied: attrs>=17.3.0 in /usr/local/lib/python3.9/dist-packages (from aiohttp!=4.0.0a0,!=4.0.0a1->fsspec[http]>2021.06.0->pytorch-lightning==1.9.0) (18.2.0)\n",
      "Requirement already satisfied: certifi>=2017.4.17 in /usr/lib/python3/dist-packages (from requests->fsspec[http]>2021.06.0->pytorch-lightning==1.9.0) (2019.11.28)\n",
      "Requirement already satisfied: urllib3<1.27,>=1.21.1 in /usr/local/lib/python3.9/dist-packages (from requests->fsspec[http]>2021.06.0->pytorch-lightning==1.9.0) (1.26.14)\n",
      "Requirement already satisfied: idna<4,>=2.5 in /usr/lib/python3/dist-packages (from requests->fsspec[http]>2021.06.0->pytorch-lightning==1.9.0) (2.8)\n",
      "Installing collected packages: pytorch-lightning\n",
      "  Attempting uninstall: pytorch-lightning\n",
      "    Found existing installation: pytorch-lightning 2.1.2\n",
      "    Uninstalling pytorch-lightning-2.1.2:\n",
      "      Successfully uninstalled pytorch-lightning-2.1.2\n",
      "Successfully installed pytorch-lightning-1.9.0\n",
      "\u001b[33mWARNING: Running pip as the 'root' user can result in broken permissions and conflicting behaviour with the system package manager. It is recommended to use a virtual environment instead: https://pip.pypa.io/warnings/venv\u001b[0m\u001b[33m\n",
      "\u001b[0m"
     ]
    }
   ],
   "source": [
    "!pip install pytorch-lightning==1.9.0"
   ]
  },
  {
   "cell_type": "code",
   "execution_count": 9,
   "id": "f6ed17fc-deac-45a0-81cf-ee28310bf807",
   "metadata": {},
   "outputs": [
    {
     "name": "stdout",
     "output_type": "stream",
     "text": [
      "--2023-11-29 16:17:48--  https://aka.ms/downloadazcopy-v10-linux\n",
      "Resolving aka.ms (aka.ms)... 23.47.169.168\n",
      "Connecting to aka.ms (aka.ms)|23.47.169.168|:443... connected.\n",
      "HTTP request sent, awaiting response... 301 Moved Permanently\n",
      "Location: https://azcopyvnext.azureedge.net/releases/release-10.21.2-20231106/azcopy_linux_amd64_10.21.2.tar.gz [following]\n",
      "--2023-11-29 16:17:48--  https://azcopyvnext.azureedge.net/releases/release-10.21.2-20231106/azcopy_linux_amd64_10.21.2.tar.gz\n",
      "Resolving azcopyvnext.azureedge.net (azcopyvnext.azureedge.net)... 72.21.81.200, 2606:2800:11f:17a5:191a:18d5:537:22f9\n",
      "Connecting to azcopyvnext.azureedge.net (azcopyvnext.azureedge.net)|72.21.81.200|:443... connected.\n",
      "HTTP request sent, awaiting response... 200 OK\n",
      "Length: 14950997 (14M) [application/gzip]\n",
      "Saving to: ‘azcopy_v10.tar.gz’\n",
      "\n",
      "azcopy_v10.tar.gz   100%[===================>]  14.26M  --.-KB/s    in 0.05s   \n",
      "\n",
      "2023-11-29 16:17:48 (284 MB/s) - ‘azcopy_v10.tar.gz’ saved [14950997/14950997]\n",
      "\n"
     ]
    }
   ],
   "source": [
    "!wget -O azcopy_v10.tar.gz https://aka.ms/downloadazcopy-v10-linux && tar -xf azcopy_v10.tar.gz --strip-components=1\n",
    "!chmod +x azcopy"
   ]
  },
  {
   "cell_type": "code",
   "execution_count": null,
   "id": "c871c109-d1bd-4734-82fe-ac9fd653974f",
   "metadata": {},
   "outputs": [],
   "source": [
    "!python trainer.py"
   ]
  },
  {
   "cell_type": "code",
   "execution_count": 14,
   "id": "7f1403b9-adf3-485d-a108-3cec57583091",
   "metadata": {},
   "outputs": [
    {
     "name": "stdout",
     "output_type": "stream",
     "text": [
      "CODE_OF_CONDUCT.md\t      captions_val2014.json\n",
      "LICENSE\t\t\t      checkpoints\n",
      "NOTICE.txt\t\t      dataset\n",
      "README.md\t\t      dataset_to_tsv.py\n",
      "SECURITY.md\t\t      generativeimage2text\n",
      "SUPPORT.md\t\t      generativeimage2text.egg-info\n",
      "Untitled.ipynb\t\t      inference\n",
      "annotations_trainval2014.zip  output\n",
      "aux_data\t\t      requirements.txt\n",
      "azcopy\t\t\t      setup.py\n",
      "azcopy_v10.tar.gz\t      trainer.py\n",
      "build\t\t\t      val2014.zip\n"
     ]
    }
   ],
   "source": [
    "!ls"
   ]
  },
  {
   "cell_type": "code",
   "execution_count": 5,
   "id": "085d5185-951d-483f-9ced-86c73ac1b60a",
   "metadata": {},
   "outputs": [
    {
     "name": "stdout",
     "output_type": "stream",
     "text": [
      "cp: cannot stat 'notebooks/Tan/GenerativeImage2Text/azcopy': No such file or directory\n"
     ]
    }
   ],
   "source": [
    "!cp notebooks/Tan/GenerativeImage2Text/azcopy bin/"
   ]
  },
  {
   "cell_type": "code",
   "execution_count": null,
   "id": "c4a98514-40d9-4971-bf34-6a78617b9662",
   "metadata": {},
   "outputs": [],
   "source": [
    "AZFUSE_TSV_USE_FUSE=1 python -m generativeimage2text.inference -p \"{'type': 'evaluate_on_coco_caption', \\\n",
    "             'res_file': 'inference/NEW_MODEL/coco.tsv', \\\n",
    "             'label_file': 'data/coco_caption/test.caption.tsv', \\\n",
    "       }\""
   ]
  },
  {
   "cell_type": "code",
   "execution_count": 10,
   "id": "7cf54495-bc7f-40bd-a36a-a5468d0972a3",
   "metadata": {},
   "outputs": [
    {
     "name": "stdout",
     "output_type": "stream",
     "text": [
      "2023-11-30 05:51:02,889.889 546:inference.py:322   <module>(): param:\n",
      "{'label_file': 'data/coco_caption/test.caption.tsv',\n",
      " 'res_file': 'inference/NEW_MODEL_smooth/coco.tsv',\n",
      " 'type': 'evaluate_on_coco_caption'}\n",
      "loading annotations into memory...\n",
      "Done (t=0.02s)\n",
      "creating index...\n",
      "index created!\n",
      "Loading and preparing results...\n",
      "DONE (t=0.00s)\n",
      "creating index...\n",
      "index created!\n",
      "tokenization...\n",
      "PTBTokenizer tokenized 61193 tokens at 470733.53 tokens per second.\n",
      "PTBTokenizer tokenized 10743 tokens at 120510.46 tokens per second.\n",
      "setting up scorers...\n",
      "computing Bleu score...\n",
      "{'testlen': 8744, 'reflen': 8932, 'guess': [8744, 7744, 6744, 5744], 'correct': [4341, 1608, 653, 255]}\n",
      "ratio: 0.9789520824002486\n",
      "Bleu_1: 0.486\n",
      "Bleu_2: 0.314\n",
      "Bleu_3: 0.211\n",
      "Bleu_4: 0.142\n",
      "computing METEOR score...\n",
      "METEOR: 0.144\n",
      "computing Rouge score...\n",
      "ROUGE_L: 0.369\n",
      "computing CIDEr score...\n",
      "CIDEr: 0.314\n",
      "computing SPICE score...\n",
      "WARNING: An illegal reflective access operation has occurred\n",
      "WARNING: Illegal reflective access by org.nustaq.serialization.FSTClazzInfo (file:/usr/local/lib/python3.9/dist-packages/pycocoevalcap/spice/lib/fst-2.47.jar) to field java.lang.String.value\n",
      "WARNING: Please consider reporting this to the maintainers of org.nustaq.serialization.FSTClazzInfo\n",
      "WARNING: Use --illegal-access=warn to enable warnings of further illegal reflective access operations\n",
      "WARNING: All illegal access operations will be denied in a future release\n",
      "Parsing reference captions\n",
      "Parsing test captions\n",
      "Warning: Nashorn engine is planned to be removed from a future JDK release\n",
      "SPICE evaluation took: 1.645 s\n",
      "SPICE: 0.072\n"
     ]
    }
   ],
   "source": [
    "!AZFUSE_TSV_USE_FUSE=1 python -m generativeimage2text.inference -p \"{'type': 'evaluate_on_coco_caption', \\\n",
    "      'res_file': 'inference/NEW_MODEL_smooth/coco.tsv', \\\n",
    "      'label_file': 'data/coco_caption/test.caption.tsv', \\\n",
    "}\""
   ]
  },
  {
   "cell_type": "code",
   "execution_count": 11,
   "id": "4ad72620-ab2a-4977-98cf-2c0a14789420",
   "metadata": {},
   "outputs": [
    {
     "name": "stdout",
     "output_type": "stream",
     "text": [
      "2023-11-30 05:51:26,012.012 656:inference.py:322   <module>(): param:\n",
      "{'label_file': 'data/coco_caption/test.caption.tsv',\n",
      " 'res_file': 'inference/NEW_MODEL_crossentropy/coco.tsv',\n",
      " 'type': 'evaluate_on_coco_caption'}\n",
      "loading annotations into memory...\n",
      "Done (t=0.02s)\n",
      "creating index...\n",
      "index created!\n",
      "Loading and preparing results...\n",
      "DONE (t=0.00s)\n",
      "creating index...\n",
      "index created!\n",
      "tokenization...\n",
      "PTBTokenizer tokenized 61193 tokens at 468665.04 tokens per second.\n",
      "PTBTokenizer tokenized 10726 tokens at 121556.69 tokens per second.\n",
      "setting up scorers...\n",
      "computing Bleu score...\n",
      "{'testlen': 8727, 'reflen': 8919, 'guess': [8727, 7727, 6727, 5727], 'correct': [4838, 1960, 778, 292]}\n",
      "ratio: 0.9784729229733178\n",
      "Bleu_1: 0.542\n",
      "Bleu_2: 0.367\n",
      "Bleu_3: 0.248\n",
      "Bleu_4: 0.166\n",
      "computing METEOR score...\n",
      "METEOR: 0.163\n",
      "computing Rouge score...\n",
      "ROUGE_L: 0.405\n",
      "computing CIDEr score...\n",
      "CIDEr: 0.419\n",
      "computing SPICE score...\n",
      "WARNING: An illegal reflective access operation has occurred\n",
      "WARNING: Illegal reflective access by org.nustaq.serialization.FSTClazzInfo (file:/usr/local/lib/python3.9/dist-packages/pycocoevalcap/spice/lib/fst-2.47.jar) to field java.lang.String.value\n",
      "WARNING: Please consider reporting this to the maintainers of org.nustaq.serialization.FSTClazzInfo\n",
      "WARNING: Use --illegal-access=warn to enable warnings of further illegal reflective access operations\n",
      "WARNING: All illegal access operations will be denied in a future release\n",
      "Parsing reference captions\n",
      "Parsing test captions\n",
      "Initiating Stanford parsing pipeline\n",
      "[main] INFO edu.stanford.nlp.pipeline.StanfordCoreNLP - Adding annotator tokenize\n",
      "[main] INFO edu.stanford.nlp.pipeline.TokenizerAnnotator - TokenizerAnnotator: No tokenizer type provided. Defaulting to PTBTokenizer.\n",
      "[main] INFO edu.stanford.nlp.pipeline.StanfordCoreNLP - Adding annotator ssplit\n",
      "[main] INFO edu.stanford.nlp.pipeline.StanfordCoreNLP - Adding annotator parse\n",
      "[main] INFO edu.stanford.nlp.parser.common.ParserGrammar - Loading parser from serialized file edu/stanford/nlp/models/lexparser/englishPCFG.ser.gz ... \n",
      "done [0.3 sec].\n",
      "[main] INFO edu.stanford.nlp.pipeline.StanfordCoreNLP - Adding annotator lemma\n",
      "[main] INFO edu.stanford.nlp.pipeline.StanfordCoreNLP - Adding annotator ner\n",
      "Loading classifier from edu/stanford/nlp/models/ner/english.all.3class.distsim.crf.ser.gz ... done [0.9 sec].\n",
      "Loading classifier from edu/stanford/nlp/models/ner/english.muc.7class.distsim.crf.ser.gz ... done [0.4 sec].\n",
      "Loading classifier from edu/stanford/nlp/models/ner/english.conll.4class.distsim.crf.ser.gz ... done [0.5 sec].\n",
      "Threads( StanfordCoreNLP ) [5.734 seconds]\n",
      "Warning: Nashorn engine is planned to be removed from a future JDK release\n",
      "SPICE evaluation took: 10.70 s\n",
      "SPICE: 0.092\n"
     ]
    }
   ],
   "source": [
    "!AZFUSE_TSV_USE_FUSE=1 python -m generativeimage2text.inference -p \"{'type': 'evaluate_on_coco_caption', \\\n",
    "      'res_file': 'inference/NEW_MODEL_crossentropy/coco.tsv', \\\n",
    "      'label_file': 'data/coco_caption/test.caption.tsv', \\\n",
    "}\""
   ]
  },
  {
   "cell_type": "code",
   "execution_count": 12,
   "id": "31dc3cf8-3a82-4fc4-872d-75e8a960c115",
   "metadata": {},
   "outputs": [
    {
     "name": "stdout",
     "output_type": "stream",
     "text": [
      "2023-11-30 05:51:54,387.387 772:inference.py:322   <module>(): param:\n",
      "{'label_file': 'data/coco_caption/test.caption.tsv',\n",
      " 'res_file': 'inference/NEW_MODEL_focal/coco.tsv',\n",
      " 'type': 'evaluate_on_coco_caption'}\n",
      "loading annotations into memory...\n",
      "Done (t=0.02s)\n",
      "creating index...\n",
      "index created!\n",
      "Loading and preparing results...\n",
      "DONE (t=0.00s)\n",
      "creating index...\n",
      "index created!\n",
      "tokenization...\n",
      "PTBTokenizer tokenized 61193 tokens at 459423.40 tokens per second.\n",
      "PTBTokenizer tokenized 10779 tokens at 119012.27 tokens per second.\n",
      "setting up scorers...\n",
      "computing Bleu score...\n",
      "{'testlen': 8780, 'reflen': 8969, 'guess': [8780, 7780, 6780, 5780], 'correct': [4946, 2045, 843, 331]}\n",
      "ratio: 0.9789274166572662\n",
      "Bleu_1: 0.551\n",
      "Bleu_2: 0.377\n",
      "Bleu_3: 0.258\n",
      "Bleu_4: 0.176\n",
      "computing METEOR score...\n",
      "METEOR: 0.168\n",
      "computing Rouge score...\n",
      "ROUGE_L: 0.416\n",
      "computing CIDEr score...\n",
      "CIDEr: 0.428\n",
      "computing SPICE score...\n",
      "WARNING: An illegal reflective access operation has occurred\n",
      "WARNING: Illegal reflective access by org.nustaq.serialization.FSTClazzInfo (file:/usr/local/lib/python3.9/dist-packages/pycocoevalcap/spice/lib/fst-2.47.jar) to field java.lang.String.value\n",
      "WARNING: Please consider reporting this to the maintainers of org.nustaq.serialization.FSTClazzInfo\n",
      "WARNING: Use --illegal-access=warn to enable warnings of further illegal reflective access operations\n",
      "WARNING: All illegal access operations will be denied in a future release\n",
      "Parsing reference captions\n",
      "Parsing test captions\n",
      "Initiating Stanford parsing pipeline\n",
      "[main] INFO edu.stanford.nlp.pipeline.StanfordCoreNLP - Adding annotator tokenize\n",
      "[main] INFO edu.stanford.nlp.pipeline.TokenizerAnnotator - TokenizerAnnotator: No tokenizer type provided. Defaulting to PTBTokenizer.\n",
      "[main] INFO edu.stanford.nlp.pipeline.StanfordCoreNLP - Adding annotator ssplit\n",
      "[main] INFO edu.stanford.nlp.pipeline.StanfordCoreNLP - Adding annotator parse\n",
      "[main] INFO edu.stanford.nlp.parser.common.ParserGrammar - Loading parser from serialized file edu/stanford/nlp/models/lexparser/englishPCFG.ser.gz ... \n",
      "done [0.4 sec].\n",
      "[main] INFO edu.stanford.nlp.pipeline.StanfordCoreNLP - Adding annotator lemma\n",
      "[main] INFO edu.stanford.nlp.pipeline.StanfordCoreNLP - Adding annotator ner\n",
      "Loading classifier from edu/stanford/nlp/models/ner/english.all.3class.distsim.crf.ser.gz ... done [1.0 sec].\n",
      "Loading classifier from edu/stanford/nlp/models/ner/english.muc.7class.distsim.crf.ser.gz ... done [0.4 sec].\n",
      "Loading classifier from edu/stanford/nlp/models/ner/english.conll.4class.distsim.crf.ser.gz ... done [0.5 sec].\n",
      "Threads( StanfordCoreNLP ) [4.398 seconds]\n",
      "Warning: Nashorn engine is planned to be removed from a future JDK release\n",
      "SPICE evaluation took: 9.521 s\n",
      "SPICE: 0.095\n"
     ]
    }
   ],
   "source": [
    "!AZFUSE_TSV_USE_FUSE=1 python -m generativeimage2text.inference -p \"{'type': 'evaluate_on_coco_caption', \\\n",
    "      'res_file': 'inference/NEW_MODEL_focal/coco.tsv', \\\n",
    "      'label_file': 'data/coco_caption/test.caption.tsv', \\\n",
    "}\""
   ]
  },
  {
   "cell_type": "code",
   "execution_count": null,
   "id": "d66c6022-c160-4366-bbe1-5a047bee7978",
   "metadata": {},
   "outputs": [],
   "source": []
  }
 ],
 "metadata": {
  "kernelspec": {
   "display_name": "Python 3 (ipykernel)",
   "language": "python",
   "name": "python3"
  },
  "language_info": {
   "codemirror_mode": {
    "name": "ipython",
    "version": 3
   },
   "file_extension": ".py",
   "mimetype": "text/x-python",
   "name": "python",
   "nbconvert_exporter": "python",
   "pygments_lexer": "ipython3",
   "version": "3.9.16"
  }
 },
 "nbformat": 4,
 "nbformat_minor": 5
}
